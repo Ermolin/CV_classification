{
 "cells": [
  {
   "cell_type": "code",
   "execution_count": 1,
   "id": "699d1f1b-ea41-4cf8-bea1-e0a5f056d7a5",
   "metadata": {
    "id": "699d1f1b-ea41-4cf8-bea1-e0a5f056d7a5",
    "tags": []
   },
   "outputs": [],
   "source": [
    "#!pip install tf-nightly-gpu\n",
    "#!pip install \"tensorflow_hub==0.4.0\"\n",
    "#!pip install tensorflow"
   ]
  },
  {
   "cell_type": "code",
   "execution_count": 2,
   "id": "rByVm0gwcBHN",
   "metadata": {
    "colab": {
     "base_uri": "https://localhost:8080/"
    },
    "id": "rByVm0gwcBHN",
    "outputId": "6e65db30-1853-4eae-8b0d-b2f65f431a0e"
   },
   "outputs": [
    {
     "name": "stdout",
     "output_type": "stream",
     "text": [
      "Drive already mounted at /content/drive; to attempt to forcibly remount, call drive.mount(\"/content/drive\", force_remount=True).\n"
     ]
    }
   ],
   "source": [
    "# for colab\n",
    "from google.colab import drive\n",
    "drive.mount('/content/drive')"
   ]
  },
  {
   "cell_type": "code",
   "execution_count": 30,
   "id": "a9370718-de3d-402e-ab25-40ccf50b874e",
   "metadata": {
    "id": "a9370718-de3d-402e-ab25-40ccf50b874e"
   },
   "outputs": [],
   "source": [
    "# standart ds libs\n",
    "import random\n",
    "import numpy as np \n",
    "import pandas as pd\n",
    "import os\n",
    "os.environ['KMP_DUPLICATE_LIB_OK']='True'\n",
    "import sys\n",
    "import PIL\n",
    "import re\n",
    "import json\n",
    "from pandas.io.json import json_normalize\n",
    "import pickle\n",
    "\n",
    "# plt\n",
    "import matplotlib.pyplot as plt\n",
    "import scipy.stats as stats\n",
    "import pylab \n",
    "#change deff size\n",
    "from pylab import rcParams\n",
    "rcParams['figure.figsize'] = 25, 15\n",
    "plt.rcParams[\"figure.figsize\"] = (25,25)\n",
    "#graps in svg\n",
    "%config InlineBackend.figure_format = 'svg' \n",
    "%matplotlib inline\n",
    "# Сброс ограничений на количество выводимых рядов\n",
    "pd.set_option('display.max_rows', None)\n",
    "\n",
    "import seaborn as sns\n",
    "sns.set_theme(style=\"whitegrid\")"
   ]
  },
  {
   "cell_type": "code",
   "execution_count": 4,
   "id": "881f7508-06d1-45b3-8577-98f38a0b3334",
   "metadata": {
    "id": "881f7508-06d1-45b3-8577-98f38a0b3334"
   },
   "outputs": [],
   "source": [
    "image = PIL.Image"
   ]
  },
  {
   "cell_type": "code",
   "execution_count": 5,
   "id": "eb19c43f-5d57-49b3-9c6e-b7f2e093c383",
   "metadata": {
    "id": "eb19c43f-5d57-49b3-9c6e-b7f2e093c383"
   },
   "outputs": [],
   "source": [
    "# ml libs\n",
    "from __future__ import absolute_import, division, print_function, unicode_literals\n",
    "\n",
    "import matplotlib.pylab as plt\n",
    "\n",
    "import tensorflow as tf\n",
    "\n",
    "import tensorflow_hub as hub\n",
    "\n",
    "from tensorflow.keras import layers\n",
    "\n",
    "import tensorflow.compat.v1.keras.backend as K\n",
    "import tensorflow as tf\n",
    "tf.compat.v1.disable_eager_execution()"
   ]
  },
  {
   "cell_type": "code",
   "execution_count": 6,
   "id": "0748dcfa-77ca-44e7-9ba5-29cc88acd5b5",
   "metadata": {
    "colab": {
     "base_uri": "https://localhost:8080/"
    },
    "id": "0748dcfa-77ca-44e7-9ba5-29cc88acd5b5",
    "outputId": "3a043c79-86be-4759-a68b-3fc662d942dd"
   },
   "outputs": [
    {
     "data": {
      "text/plain": [
       "False"
      ]
     },
     "execution_count": 6,
     "metadata": {},
     "output_type": "execute_result"
    }
   ],
   "source": [
    "tf.executing_eagerly()"
   ]
  },
  {
   "cell_type": "code",
   "execution_count": 7,
   "id": "12c51f1f-27bc-43ee-b82f-44772ce46ee1",
   "metadata": {
    "id": "12c51f1f-27bc-43ee-b82f-44772ce46ee1"
   },
   "outputs": [],
   "source": [
    "import logging\n",
    "logger = tf.get_logger()\n",
    "logger.setLevel(logging.ERROR)"
   ]
  },
  {
   "cell_type": "code",
   "execution_count": 8,
   "id": "7da86606-0ae8-4ee0-9bff-37773a7ffe3b",
   "metadata": {
    "colab": {
     "base_uri": "https://localhost:8080/",
     "height": 74
    },
    "id": "7da86606-0ae8-4ee0-9bff-37773a7ffe3b",
    "outputId": "ec51d662-6a21-4fa5-a760-230eccc15d88"
   },
   "outputs": [
    {
     "data": {
      "application/vnd.google.colaboratory.intrinsic+json": {
       "type": "string"
      },
      "text/plain": [
       "'\\nmodel = tf.keras.Sequential([\\n                             hub.KerasLayer(CLASSIFIER_URL, trainable=False, input_shape=(IMAGE_RES, IMAGE_RES, 3))\\n])'"
      ]
     },
     "execution_count": 8,
     "metadata": {},
     "output_type": "execute_result"
    }
   ],
   "source": [
    "CLASSIFIER_URL = \"https://tfhub.dev/google/tf2-preview/mobilenet_v2/classification/4\"\n",
    "IMAGE_RES = 224\n",
    "'''\n",
    "model = tf.keras.Sequential([\n",
    "                             hub.KerasLayer(CLASSIFIER_URL, trainable=False, input_shape=(IMAGE_RES, IMAGE_RES, 3))\n",
    "])'''"
   ]
  },
  {
   "cell_type": "code",
   "execution_count": 9,
   "id": "ccf28403-ff90-4a1c-81e6-d84211458ad2",
   "metadata": {
    "colab": {
     "base_uri": "https://localhost:8080/",
     "height": 58
    },
    "id": "ccf28403-ff90-4a1c-81e6-d84211458ad2",
    "outputId": "cfcb4971-2aeb-4b8c-b9af-d2212b5a0959"
   },
   "outputs": [
    {
     "data": {
      "application/vnd.google.colaboratory.intrinsic+json": {
       "type": "string"
      },
      "text/plain": [
       "'model'"
      ]
     },
     "execution_count": 9,
     "metadata": {},
     "output_type": "execute_result"
    }
   ],
   "source": [
    "'''model'''"
   ]
  },
  {
   "cell_type": "markdown",
   "id": "3f60397d-ab68-49ac-88d5-dfc01944b601",
   "metadata": {
    "id": "3f60397d-ab68-49ac-88d5-dfc01944b601"
   },
   "source": [
    "Sample"
   ]
  },
  {
   "cell_type": "code",
   "execution_count": 10,
   "id": "2c0d078c-aa99-4c31-9958-d80cb4239ab5",
   "metadata": {
    "id": "2c0d078c-aa99-4c31-9958-d80cb4239ab5"
   },
   "outputs": [],
   "source": [
    "# use local\n",
    "#DATA_DIR = 'Dataset/'\n",
    "#target.head(2)"
   ]
  },
  {
   "cell_type": "code",
   "execution_count": 11,
   "id": "6KDT9tWHdoNk",
   "metadata": {
    "colab": {
     "base_uri": "https://localhost:8080/"
    },
    "id": "6KDT9tWHdoNk",
    "outputId": "c7fcf75b-7fb2-408e-f8ac-dbc22cc9da3e"
   },
   "outputs": [
    {
     "name": "stdout",
     "output_type": "stream",
     "text": [
      "Requirement already satisfied: pickle5 in /usr/local/lib/python3.7/dist-packages (0.0.12)\n"
     ]
    }
   ],
   "source": [
    "# use on colab\n",
    "DATA_DIR = '/content/drive/MyDrive/COLAB_DATA/Dataset/' \n",
    "colab_path = '/content/drive/MyDrive/COLAB_DATA/target_table.pickle'\n",
    "!pip3 install pickle5\n",
    "import pickle5 as pickle\n",
    "with open(colab_path, \"rb\") as fh:\n",
    "  target = pickle.load(fh)"
   ]
  },
  {
   "cell_type": "code",
   "execution_count": 12,
   "id": "fCjYWIaHeGBL",
   "metadata": {
    "colab": {
     "base_uri": "https://localhost:8080/",
     "height": 130
    },
    "id": "fCjYWIaHeGBL",
    "outputId": "5e85f1b6-8834-403a-dd59-37653f80020f"
   },
   "outputs": [
    {
     "data": {
      "text/html": [
       "\n",
       "  <div id=\"df-658bdd1f-3071-4501-b9f8-e009913f5efa\">\n",
       "    <div class=\"colab-df-container\">\n",
       "      <div>\n",
       "<style scoped>\n",
       "    .dataframe tbody tr th:only-of-type {\n",
       "        vertical-align: middle;\n",
       "    }\n",
       "\n",
       "    .dataframe tbody tr th {\n",
       "        vertical-align: top;\n",
       "    }\n",
       "\n",
       "    .dataframe thead th {\n",
       "        text-align: right;\n",
       "    }\n",
       "</style>\n",
       "<table border=\"1\" class=\"dataframe\">\n",
       "  <thead>\n",
       "    <tr style=\"text-align: right;\">\n",
       "      <th></th>\n",
       "      <th>file</th>\n",
       "      <th>target</th>\n",
       "    </tr>\n",
       "  </thead>\n",
       "  <tbody>\n",
       "    <tr>\n",
       "      <th>0</th>\n",
       "      <td>data/bf0d8c12-950b-4760-8deb-3a562cd7fe5b.jpg</td>\n",
       "      <td>0</td>\n",
       "    </tr>\n",
       "    <tr>\n",
       "      <th>1</th>\n",
       "      <td>data/021d56b2-305b-443a-b45b-17ca7eafc3e9.jpg</td>\n",
       "      <td>0</td>\n",
       "    </tr>\n",
       "  </tbody>\n",
       "</table>\n",
       "</div>\n",
       "      <button class=\"colab-df-convert\" onclick=\"convertToInteractive('df-658bdd1f-3071-4501-b9f8-e009913f5efa')\"\n",
       "              title=\"Convert this dataframe to an interactive table.\"\n",
       "              style=\"display:none;\">\n",
       "        \n",
       "  <svg xmlns=\"http://www.w3.org/2000/svg\" height=\"24px\"viewBox=\"0 0 24 24\"\n",
       "       width=\"24px\">\n",
       "    <path d=\"M0 0h24v24H0V0z\" fill=\"none\"/>\n",
       "    <path d=\"M18.56 5.44l.94 2.06.94-2.06 2.06-.94-2.06-.94-.94-2.06-.94 2.06-2.06.94zm-11 1L8.5 8.5l.94-2.06 2.06-.94-2.06-.94L8.5 2.5l-.94 2.06-2.06.94zm10 10l.94 2.06.94-2.06 2.06-.94-2.06-.94-.94-2.06-.94 2.06-2.06.94z\"/><path d=\"M17.41 7.96l-1.37-1.37c-.4-.4-.92-.59-1.43-.59-.52 0-1.04.2-1.43.59L10.3 9.45l-7.72 7.72c-.78.78-.78 2.05 0 2.83L4 21.41c.39.39.9.59 1.41.59.51 0 1.02-.2 1.41-.59l7.78-7.78 2.81-2.81c.8-.78.8-2.07 0-2.86zM5.41 20L4 18.59l7.72-7.72 1.47 1.35L5.41 20z\"/>\n",
       "  </svg>\n",
       "      </button>\n",
       "      \n",
       "  <style>\n",
       "    .colab-df-container {\n",
       "      display:flex;\n",
       "      flex-wrap:wrap;\n",
       "      gap: 12px;\n",
       "    }\n",
       "\n",
       "    .colab-df-convert {\n",
       "      background-color: #E8F0FE;\n",
       "      border: none;\n",
       "      border-radius: 50%;\n",
       "      cursor: pointer;\n",
       "      display: none;\n",
       "      fill: #1967D2;\n",
       "      height: 32px;\n",
       "      padding: 0 0 0 0;\n",
       "      width: 32px;\n",
       "    }\n",
       "\n",
       "    .colab-df-convert:hover {\n",
       "      background-color: #E2EBFA;\n",
       "      box-shadow: 0px 1px 2px rgba(60, 64, 67, 0.3), 0px 1px 3px 1px rgba(60, 64, 67, 0.15);\n",
       "      fill: #174EA6;\n",
       "    }\n",
       "\n",
       "    [theme=dark] .colab-df-convert {\n",
       "      background-color: #3B4455;\n",
       "      fill: #D2E3FC;\n",
       "    }\n",
       "\n",
       "    [theme=dark] .colab-df-convert:hover {\n",
       "      background-color: #434B5C;\n",
       "      box-shadow: 0px 1px 3px 1px rgba(0, 0, 0, 0.15);\n",
       "      filter: drop-shadow(0px 1px 2px rgba(0, 0, 0, 0.3));\n",
       "      fill: #FFFFFF;\n",
       "    }\n",
       "  </style>\n",
       "\n",
       "      <script>\n",
       "        const buttonEl =\n",
       "          document.querySelector('#df-658bdd1f-3071-4501-b9f8-e009913f5efa button.colab-df-convert');\n",
       "        buttonEl.style.display =\n",
       "          google.colab.kernel.accessAllowed ? 'block' : 'none';\n",
       "\n",
       "        async function convertToInteractive(key) {\n",
       "          const element = document.querySelector('#df-658bdd1f-3071-4501-b9f8-e009913f5efa');\n",
       "          const dataTable =\n",
       "            await google.colab.kernel.invokeFunction('convertToInteractive',\n",
       "                                                     [key], {});\n",
       "          if (!dataTable) return;\n",
       "\n",
       "          const docLinkHtml = 'Like what you see? Visit the ' +\n",
       "            '<a target=\"_blank\" href=https://colab.research.google.com/notebooks/data_table.ipynb>data table notebook</a>'\n",
       "            + ' to learn more about interactive tables.';\n",
       "          element.innerHTML = '';\n",
       "          dataTable['output_type'] = 'display_data';\n",
       "          await google.colab.output.renderOutput(dataTable, element);\n",
       "          const docLink = document.createElement('div');\n",
       "          docLink.innerHTML = docLinkHtml;\n",
       "          element.appendChild(docLink);\n",
       "        }\n",
       "      </script>\n",
       "    </div>\n",
       "  </div>\n",
       "  "
      ],
      "text/plain": [
       "                                            file  target\n",
       "0  data/bf0d8c12-950b-4760-8deb-3a562cd7fe5b.jpg       0\n",
       "1  data/021d56b2-305b-443a-b45b-17ca7eafc3e9.jpg       0"
      ]
     },
     "execution_count": 12,
     "metadata": {},
     "output_type": "execute_result"
    }
   ],
   "source": [
    "target.head(2)"
   ]
  },
  {
   "cell_type": "code",
   "execution_count": 13,
   "id": "08667844-0817-4dab-8029-7454db2b9274",
   "metadata": {
    "colab": {
     "base_uri": "https://localhost:8080/"
    },
    "id": "08667844-0817-4dab-8029-7454db2b9274",
    "outputId": "ebd82c59-91a8-47c5-a22e-a68e90d1ebf0"
   },
   "outputs": [
    {
     "data": {
      "text/plain": [
       "(3,)"
      ]
     },
     "execution_count": 13,
     "metadata": {},
     "output_type": "execute_result"
    }
   ],
   "source": [
    "#loss_weiths = {}\n",
    "loss_weiths = []\n",
    "for i in list(target.target.unique()):\n",
    "    #loss_weiths[i] = 1- (len(target[target.target == i]) / len(target))\n",
    "    loss_weiths.append(1- (len(target[target.target == i]) / len(target)))\n",
    "loss_weiths  = np.array(loss_weiths)  \n",
    "loss_weiths.shape"
   ]
  },
  {
   "cell_type": "code",
   "execution_count": 14,
   "id": "8264bf1b-80ce-4847-9029-b5681a7bd7ac",
   "metadata": {
    "colab": {
     "base_uri": "https://localhost:8080/",
     "height": 74
    },
    "id": "8264bf1b-80ce-4847-9029-b5681a7bd7ac",
    "outputId": "fbd11bf6-31c3-463d-a5c9-b6a02eebfe38",
    "tags": []
   },
   "outputs": [
    {
     "data": {
      "application/vnd.google.colaboratory.intrinsic+json": {
       "type": "string"
      },
      "text/plain": [
       "\"random_image = target.sample(n = 1)\\nrandom_image_path = random_image['file'].values[0]\\nrandom_image_type = random_image['target'].values[0]\\nsample_pic = image.open(DATA_DIR+random_image_path).convert('RGB').resize((IMAGE_RES, IMAGE_RES))\\nprint(random_image_type, random_image_path)\\nsample_pic\""
      ]
     },
     "execution_count": 14,
     "metadata": {},
     "output_type": "execute_result"
    }
   ],
   "source": [
    "'''random_image = target.sample(n = 1)\n",
    "random_image_path = random_image['file'].values[0]\n",
    "random_image_type = random_image['target'].values[0]\n",
    "sample_pic = image.open(DATA_DIR+random_image_path).convert('RGB').resize((IMAGE_RES, IMAGE_RES))\n",
    "print(random_image_type, random_image_path)\n",
    "sample_pic'''"
   ]
  },
  {
   "cell_type": "code",
   "execution_count": 15,
   "id": "9b6cfdb7-5afd-410a-acaa-19a385a1986f",
   "metadata": {
    "colab": {
     "base_uri": "https://localhost:8080/",
     "height": 58
    },
    "id": "9b6cfdb7-5afd-410a-acaa-19a385a1986f",
    "outputId": "c526b157-243d-4cae-f578-a1f4b8f2ab99"
   },
   "outputs": [
    {
     "data": {
      "application/vnd.google.colaboratory.intrinsic+json": {
       "type": "string"
      },
      "text/plain": [
       "'random_image_path'"
      ]
     },
     "execution_count": 15,
     "metadata": {},
     "output_type": "execute_result"
    }
   ],
   "source": [
    "'''random_image_path'''"
   ]
  },
  {
   "cell_type": "code",
   "execution_count": 16,
   "id": "831fa81f-83a1-471f-8cd8-6529b9d6e196",
   "metadata": {
    "colab": {
     "base_uri": "https://localhost:8080/",
     "height": 58
    },
    "id": "831fa81f-83a1-471f-8cd8-6529b9d6e196",
    "outputId": "f8a67772-6233-4b62-d964-178090b3f7c5"
   },
   "outputs": [
    {
     "data": {
      "application/vnd.google.colaboratory.intrinsic+json": {
       "type": "string"
      },
      "text/plain": [
       "'sample_ar = np.array(sample_pic)/255.0\\nsample_ar.shape'"
      ]
     },
     "execution_count": 16,
     "metadata": {},
     "output_type": "execute_result"
    }
   ],
   "source": [
    "'''sample_ar = np.array(sample_pic)/255.0\n",
    "sample_ar.shape'''"
   ]
  },
  {
   "cell_type": "code",
   "execution_count": 17,
   "id": "b719736c-95b8-4408-af4b-9c7d6b1a4386",
   "metadata": {
    "colab": {
     "base_uri": "https://localhost:8080/",
     "height": 58
    },
    "id": "b719736c-95b8-4408-af4b-9c7d6b1a4386",
    "outputId": "d6dbed87-5fd4-4849-b288-f1d1e674add5"
   },
   "outputs": [
    {
     "data": {
      "application/vnd.google.colaboratory.intrinsic+json": {
       "type": "string"
      },
      "text/plain": [
       "'result = model.predict(sample_ar[np.newaxis, ...])\\nresult.shape'"
      ]
     },
     "execution_count": 17,
     "metadata": {},
     "output_type": "execute_result"
    }
   ],
   "source": [
    "'''result = model.predict(sample_ar[np.newaxis, ...])\n",
    "result.shape'''"
   ]
  },
  {
   "cell_type": "code",
   "execution_count": 18,
   "id": "d17e63b5-321f-4b58-b240-e526867b5583",
   "metadata": {
    "colab": {
     "base_uri": "https://localhost:8080/",
     "height": 58
    },
    "id": "d17e63b5-321f-4b58-b240-e526867b5583",
    "outputId": "2ef7dd60-b40d-4366-9919-f681cbac3c51"
   },
   "outputs": [
    {
     "data": {
      "application/vnd.google.colaboratory.intrinsic+json": {
       "type": "string"
      },
      "text/plain": [
       "'predicted_class = np.argmax(result[0], axis=-1)\\npredicted_class'"
      ]
     },
     "execution_count": 18,
     "metadata": {},
     "output_type": "execute_result"
    }
   ],
   "source": [
    "'''predicted_class = np.argmax(result[0], axis=-1)\n",
    "predicted_class'''"
   ]
  },
  {
   "cell_type": "code",
   "execution_count": 19,
   "id": "d6f8dffa-3699-41fe-84ce-07dbd7067467",
   "metadata": {
    "colab": {
     "base_uri": "https://localhost:8080/",
     "height": 91
    },
    "id": "d6f8dffa-3699-41fe-84ce-07dbd7067467",
    "outputId": "24b20a81-b692-4cb9-ce33-e0ae9bcbcd10"
   },
   "outputs": [
    {
     "data": {
      "application/vnd.google.colaboratory.intrinsic+json": {
       "type": "string"
      },
      "text/plain": [
       "'labels_path = tf.keras.utils.get_file(\\'ImageNetLabels.txt\\',\\'https://storage.googleapis.com/download.tensorflow.org/data/ImageNetLabels.txt\\')\\nimagenet_labels = np.array(open(labels_path).read().splitlines())\\n\\nplt.imshow(sample_pic)\\nplt.axis(\\'off\\')\\npredicted_class_name = imagenet_labels[predicted_class]\\n_ = plt.title(\"Prediction: \" + predicted_class_name.title())'"
      ]
     },
     "execution_count": 19,
     "metadata": {},
     "output_type": "execute_result"
    }
   ],
   "source": [
    "'''labels_path = tf.keras.utils.get_file('ImageNetLabels.txt','https://storage.googleapis.com/download.tensorflow.org/data/ImageNetLabels.txt')\n",
    "imagenet_labels = np.array(open(labels_path).read().splitlines())\n",
    "\n",
    "plt.imshow(sample_pic)\n",
    "plt.axis('off')\n",
    "predicted_class_name = imagenet_labels[predicted_class]\n",
    "_ = plt.title(\"Prediction: \" + predicted_class_name.title())'''"
   ]
  },
  {
   "cell_type": "markdown",
   "id": "332a0c55-2498-4ae0-924d-c6f7421a3521",
   "metadata": {
    "id": "332a0c55-2498-4ae0-924d-c6f7421a3521"
   },
   "source": [
    "сделаем датафрейм фото в RGB + class"
   ]
  },
  {
   "cell_type": "code",
   "execution_count": 20,
   "id": "d6e7f30e-bd45-4d12-8ac7-08e8be2f798b",
   "metadata": {
    "id": "d6e7f30e-bd45-4d12-8ac7-08e8be2f798b",
    "tags": []
   },
   "outputs": [],
   "source": [
    "target_class ={0:'other'\n",
    "              ,1:'vehicles'\n",
    "              ,2:'plants'}  \n",
    " \n",
    "# ресайз и приведеине к ргб\n",
    "def getPic(row):\n",
    "    return np.array(image.open(DATA_DIR + str(row['file'])).convert('RGB').resize((IMAGE_RES, IMAGE_RES)))\n",
    "\n",
    "                    \n",
    "# таргет класс\n",
    "def get_label(row):\n",
    "    return row['target']\n",
    "\n",
    "# собираем Pics n Classes в np.array \n",
    "def get_ds(df):\n",
    "    img_paths = list()\n",
    "    # пустой дф\n",
    "    for index, row in df.iterrows():\n",
    "        img_paths.append(row)\n",
    "    images = np.zeros((len(img_paths),IMAGE_RES,IMAGE_RES,3))\n",
    "    labels = np.zeros(len(img_paths))\n",
    "      \n",
    "    # заполняем\n",
    "    for i, row in enumerate(img_paths):\n",
    "        images[i] = getPic(row)\n",
    "        labels[i] = get_label(row)\n",
    "        \n",
    "    return images,labels\n",
    "# Load the train and validation data\n",
    "X, y = get_ds(target)"
   ]
  },
  {
   "cell_type": "code",
   "execution_count": 21,
   "id": "1e73c6f2-2682-4b95-b216-a5a6a57e4e45",
   "metadata": {
    "colab": {
     "base_uri": "https://localhost:8080/"
    },
    "id": "1e73c6f2-2682-4b95-b216-a5a6a57e4e45",
    "outputId": "efd95b04-08a9-47b1-be26-42367a0295a3"
   },
   "outputs": [
    {
     "data": {
      "text/plain": [
       "2.0"
      ]
     },
     "execution_count": 21,
     "metadata": {},
     "output_type": "execute_result"
    }
   ],
   "source": [
    "y[122]"
   ]
  },
  {
   "cell_type": "markdown",
   "id": "13001b20-8b89-49d9-a73b-7302376b7195",
   "metadata": {
    "id": "13001b20-8b89-49d9-a73b-7302376b7195"
   },
   "source": [
    "Y to dummy"
   ]
  },
  {
   "cell_type": "code",
   "execution_count": 22,
   "id": "df5aa407-ebb9-4f4b-a2e4-46df8cf86da8",
   "metadata": {
    "id": "df5aa407-ebb9-4f4b-a2e4-46df8cf86da8"
   },
   "outputs": [],
   "source": [
    "Y = pd.DataFrame({'y':y})\n",
    "Y['0']=Y['y'].apply(lambda x: 1 if x== 0 else 0)\n",
    "Y['1']=Y['y'].apply(lambda x: 1 if x== 1 else 0)\n",
    "Y['2']=Y['y'].apply(lambda x: 1 if x== 2 else 0)\n",
    "Y = Y.drop('y', axis = 1)\n",
    "#Y"
   ]
  },
  {
   "cell_type": "markdown",
   "id": "6d1649a0-7318-4ae2-ad60-360c8f869efd",
   "metadata": {
    "id": "6d1649a0-7318-4ae2-ad60-360c8f869efd"
   },
   "source": [
    "Модифицируемодель для предсказания наших классов"
   ]
  },
  {
   "cell_type": "code",
   "execution_count": 23,
   "id": "e0d10666-58d0-4704-94d0-4b35589f9e71",
   "metadata": {
    "id": "e0d10666-58d0-4704-94d0-4b35589f9e71"
   },
   "outputs": [],
   "source": [
    "f_extractor = tf.keras.Sequential([\n",
    "                             hub.KerasLayer(CLASSIFIER_URL, trainable=False, input_shape=(IMAGE_RES, IMAGE_RES, 3))\n",
    "])\n",
    "f_extractor.trainable = False"
   ]
  },
  {
   "cell_type": "code",
   "execution_count": 24,
   "id": "0de1a4ad-ed46-4973-aeb4-4163feec9b13",
   "metadata": {
    "colab": {
     "base_uri": "https://localhost:8080/"
    },
    "id": "0de1a4ad-ed46-4973-aeb4-4163feec9b13",
    "outputId": "252e00f7-e117-4fb4-d0b7-c3a21290ffc8"
   },
   "outputs": [
    {
     "name": "stdout",
     "output_type": "stream",
     "text": [
      "Model: \"sequential_1\"\n",
      "_________________________________________________________________\n",
      " Layer (type)                Output Shape              Param #   \n",
      "=================================================================\n",
      " sequential (Sequential)     (None, 1001)              3540265   \n",
      "                                                                 \n",
      " dense (Dense)               (None, 3)                 3006      \n",
      "                                                                 \n",
      "=================================================================\n",
      "Total params: 3,543,271\n",
      "Trainable params: 3,006\n",
      "Non-trainable params: 3,540,265\n",
      "_________________________________________________________________\n"
     ]
    }
   ],
   "source": [
    "model = tf.keras.Sequential([\n",
    "  f_extractor,\n",
    "  layers.Dense(3, activation='softmax')\n",
    "])\n",
    "\n",
    "model.summary()"
   ]
  },
  {
   "cell_type": "code",
   "execution_count": 25,
   "id": "a44bd2e8-f4de-4e48-af12-b53a9c2a5e3a",
   "metadata": {
    "id": "a44bd2e8-f4de-4e48-af12-b53a9c2a5e3a"
   },
   "outputs": [],
   "source": [
    "model.compile(\n",
    "    optimizer='adam',\n",
    "    loss='sparse_categorical_crossentropy',\n",
    "    metrics=['accuracy'],\n",
    ")"
   ]
  },
  {
   "cell_type": "code",
   "execution_count": 26,
   "id": "ac624359-385f-4601-a9dd-a8b9747658e0",
   "metadata": {
    "id": "ac624359-385f-4601-a9dd-a8b9747658e0"
   },
   "outputs": [],
   "source": [
    "#batches = tf.compat.v1.train.batch(X ,Y ,  num_threads=1,capacity = 64 )\n",
    "# Падает на моем буке"
   ]
  },
  {
   "cell_type": "code",
   "execution_count": 27,
   "id": "-9NxceNhuuFj",
   "metadata": {
    "colab": {
     "base_uri": "https://localhost:8080/"
    },
    "id": "-9NxceNhuuFj",
    "outputId": "beb28d94-c713-462c-a75b-dbc58b403e42"
   },
   "outputs": [
    {
     "name": "stdout",
     "output_type": "stream",
     "text": [
      "7\n",
      "7.79\n"
     ]
    }
   ],
   "source": [
    "print(int(len(y)/200))\n",
    "print(len(y)/200)"
   ]
  },
  {
   "cell_type": "code",
   "execution_count": 28,
   "id": "GV8b1znNv3ow",
   "metadata": {
    "colab": {
     "base_uri": "https://localhost:8080/"
    },
    "id": "GV8b1znNv3ow",
    "outputId": "d64943a4-af4d-43b8-db8a-c974dacd2c89"
   },
   "outputs": [
    {
     "name": "stdout",
     "output_type": "stream",
     "text": [
      "Train on 13 steps, validate on 13 steps\n",
      "Epoch 1/2\n",
      "13/13 [==============================] - ETA: 0s - batch: 6.0000 - size: 1.0000 - loss: 0.8262 - accuracy: 0.6900"
     ]
    },
    {
     "name": "stderr",
     "output_type": "stream",
     "text": [
      "/usr/local/lib/python3.7/dist-packages/keras/engine/training_v1.py:2057: UserWarning: `Model.state_updates` will be removed in a future version. This property should not be used in TensorFlow 2.0, as `updates` are applied automatically.\n",
      "  updates = self.state_updates\n"
     ]
    },
    {
     "name": "stdout",
     "output_type": "stream",
     "text": [
      "13/13 [==============================] - 25s 2s/step - batch: 6.0000 - size: 1.0000 - loss: 0.8262 - accuracy: 0.6900 - val_loss: 0.3667 - val_accuracy: 0.8750\n",
      "Epoch 2/2\n",
      "13/13 [==============================] - 14s 1s/step - batch: 6.0000 - size: 1.0000 - loss: 0.3214 - accuracy: 0.8900 - val_loss: 0.2192 - val_accuracy: 0.9550\n",
      "Train on 13 steps, validate on 13 steps\n",
      "Epoch 1/2\n",
      "13/13 [==============================] - 19s 1s/step - batch: 6.0000 - size: 1.0000 - loss: 0.4787 - accuracy: 0.8350 - val_loss: 0.3288 - val_accuracy: 0.8600\n",
      "Epoch 2/2\n",
      "13/13 [==============================] - 13s 1s/step - batch: 6.0000 - size: 1.0000 - loss: 0.3174 - accuracy: 0.8750 - val_loss: 0.2380 - val_accuracy: 0.9300\n",
      "Train on 13 steps, validate on 13 steps\n",
      "Epoch 1/2\n",
      "13/13 [==============================] - 19s 1s/step - batch: 6.0000 - size: 1.0000 - loss: 0.3168 - accuracy: 0.8700 - val_loss: 0.2538 - val_accuracy: 0.8950\n",
      "Epoch 2/2\n",
      "13/13 [==============================] - 11s 868ms/step - batch: 6.0000 - size: 1.0000 - loss: 0.2579 - accuracy: 0.9050 - val_loss: 0.1829 - val_accuracy: 0.9250\n"
     ]
    }
   ],
   "source": [
    "s1= 0\n",
    "s2 = 200\n",
    "ran = s2\n",
    "x_t = tf.convert_to_tensor(X[s1:s2])\n",
    "y_t = tf.convert_to_tensor(y[s1:s2])\n",
    "# Prepare the training dataset\n",
    "train_dataset = tf.data.Dataset.from_tensor_slices((x_t, y_t))\n",
    "train_dataset = train_dataset.shuffle(buffer_size=256).batch(16)\n",
    "# Prepare the validation dataset\n",
    "val_dataset = tf.data.Dataset.from_tensor_slices((x_t, y_t))\n",
    "val_dataset = val_dataset.batch(16)\n",
    "for i in range(3):\n",
    "  del x_t\n",
    "  del y_t\n",
    "  del train_dataset\n",
    "  del val_dataset\n",
    "  x_t = tf.convert_to_tensor(X[s1:s2])\n",
    "  y_t = tf.convert_to_tensor(y[s1:s2])\n",
    "  # Prepare the training dataset\n",
    "  train_dataset = tf.data.Dataset.from_tensor_slices((x_t, y_t))\n",
    "  train_dataset = train_dataset.shuffle(buffer_size=256).batch(16)\n",
    "\n",
    "  # Prepare the validation dataset\n",
    "  val_dataset = tf.data.Dataset.from_tensor_slices((x_t, y_t))\n",
    "  val_dataset = val_dataset.batch(16)\n",
    "\n",
    "  model.fit(train_dataset,\n",
    "            epochs=2,\n",
    "            validation_data=val_dataset)\n",
    "\n",
    "  s1 +=ran\n",
    "  s2 +=ran"
   ]
  },
  {
   "cell_type": "code",
   "execution_count": 32,
   "id": "f8d0e9ee-55d5-4655-aba1-4b329aee1e2a",
   "metadata": {
    "id": "f8d0e9ee-55d5-4655-aba1-4b329aee1e2a"
   },
   "outputs": [],
   "source": [
    "model.save('traindel_model.h5')"
   ]
  },
  {
   "cell_type": "code",
   "execution_count": null,
   "id": "93fdd149-537f-4b62-b87c-b9143d2a6a64",
   "metadata": {
    "id": "93fdd149-537f-4b62-b87c-b9143d2a6a64"
   },
   "outputs": [],
   "source": []
  },
  {
   "cell_type": "code",
   "execution_count": null,
   "id": "33cd3c0c-472c-4251-93ff-795f81b8893b",
   "metadata": {
    "id": "33cd3c0c-472c-4251-93ff-795f81b8893b"
   },
   "outputs": [],
   "source": []
  },
  {
   "cell_type": "code",
   "execution_count": null,
   "id": "05cbfb9c-cda4-444f-8b37-c5c111e5e484",
   "metadata": {
    "id": "05cbfb9c-cda4-444f-8b37-c5c111e5e484"
   },
   "outputs": [],
   "source": []
  },
  {
   "cell_type": "code",
   "execution_count": null,
   "id": "013d44de-2e42-480c-904f-1eb98ceb1fe2",
   "metadata": {
    "id": "013d44de-2e42-480c-904f-1eb98ceb1fe2"
   },
   "outputs": [],
   "source": []
  },
  {
   "cell_type": "code",
   "execution_count": null,
   "id": "bd7f1b7c-1193-4472-83f7-16e80bbe3ec3",
   "metadata": {
    "id": "bd7f1b7c-1193-4472-83f7-16e80bbe3ec3"
   },
   "outputs": [],
   "source": []
  },
  {
   "cell_type": "code",
   "execution_count": null,
   "id": "534596ed-25f0-4616-ad18-bc3f9914aa26",
   "metadata": {
    "id": "534596ed-25f0-4616-ad18-bc3f9914aa26"
   },
   "outputs": [],
   "source": []
  }
 ],
 "metadata": {
  "accelerator": "TPU",
  "colab": {
   "collapsed_sections": [],
   "name": "transfer_learning.ipynb",
   "provenance": []
  },
  "kernelspec": {
   "display_name": "Python 3 (ipykernel)",
   "language": "python",
   "name": "python3"
  },
  "language_info": {
   "codemirror_mode": {
    "name": "ipython",
    "version": 3
   },
   "file_extension": ".py",
   "mimetype": "text/x-python",
   "name": "python",
   "nbconvert_exporter": "python",
   "pygments_lexer": "ipython3",
   "version": "3.9.7"
  }
 },
 "nbformat": 4,
 "nbformat_minor": 5
}
